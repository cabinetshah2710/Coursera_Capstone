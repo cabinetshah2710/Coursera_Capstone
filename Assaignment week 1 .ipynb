{
 "cells": [
  {
   "cell_type": "markdown",
   "metadata": {},
   "source": [
    "# Capstone Project Notebook (IBM Data Science - Course 9 - Lab1)"
   ]
  },
  {
   "cell_type": "markdown",
   "metadata": {},
   "source": [
    "Create a new repository on your Github account and name it Coursera_Capstone. I have prepared a guide to walk you through the process of creating a repository and setting it up. For Mac users, click here. For Windows users, click here.\n",
    "\n",
    "Now, start a Jupyter Notebook using any platform that you are comfortable with and do the following:\n",
    "\n"
   ]
  },
  {
   "cell_type": "markdown",
   "metadata": {},
   "source": [
    "Write some markdown to explain that this notebook will be mainly used for the capstone project.\n"
   ]
  },
  {
   "cell_type": "markdown",
   "metadata": {},
   "source": [
    "Import the pandas library as pd.\n"
   ]
  },
  {
   "cell_type": "markdown",
   "metadata": {},
   "source": [
    "Import the Numpy library as np.\n",
    "\n",
    "Print the following the statement: Hello Capstone Project Course!\n",
    "\n",
    "Push the Notebook to your Github repository and submit a link to the notebook on your Github repository.\n",
    "\n",
    "This Capstone Project is the first lab from the Course 9 - Applied Data Science Capstone.\n"
   ]
  },
  {
   "cell_type": "code",
   "execution_count": 2,
   "metadata": {},
   "outputs": [
    {
     "name": "stdout",
     "output_type": "stream",
     "text": [
      "Hello Capstone Project Course !\n"
     ]
    }
   ],
   "source": [
    "import pandas as pd\n",
    "import numpy as np\n",
    "print(\"Hello Capstone Project Course !\")"
   ]
  },
  {
   "cell_type": "code",
   "execution_count": null,
   "metadata": {},
   "outputs": [],
   "source": []
  }
 ],
 "metadata": {
  "kernelspec": {
   "display_name": "Python 3",
   "language": "python",
   "name": "python3"
  },
  "language_info": {
   "codemirror_mode": {
    "name": "ipython",
    "version": 3
   },
   "file_extension": ".py",
   "mimetype": "text/x-python",
   "name": "python",
   "nbconvert_exporter": "python",
   "pygments_lexer": "ipython3",
   "version": "3.6.4"
  }
 },
 "nbformat": 4,
 "nbformat_minor": 2
}
